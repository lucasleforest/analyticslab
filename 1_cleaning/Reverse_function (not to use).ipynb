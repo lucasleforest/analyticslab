{
 "cells": [
  {
   "cell_type": "markdown",
   "metadata": {},
   "source": [
    "## Reverse log diff predictions on 2025-2027"
   ]
  },
  {
   "cell_type": "code",
   "execution_count": 252,
   "metadata": {},
   "outputs": [],
   "source": [
    "import pandas as pd\n",
    "import numpy as np\n",
    "import re"
   ]
  },
  {
   "cell_type": "code",
   "execution_count": 202,
   "metadata": {},
   "outputs": [],
   "source": [
    "df = pd.read_csv(\"../clean_data/final_df.csv\", index_col=0)\n",
    "preds_xgb = pd.read_csv(\"../clean_data/log_preds_25_27.csv\", index_col=0)"
   ]
  },
  {
   "cell_type": "code",
   "execution_count": 203,
   "metadata": {},
   "outputs": [],
   "source": [
    "df = df[df[\"Year\"]==2024]\n",
    "df = df[[\"Company\", \"Device\", \"Market\", \"SubMarket\", \"Value\"]]\n",
    "df.rename({\"Value\":\"2024_company_spending_actual\"}, axis=1, inplace=True)"
   ]
  },
  {
   "cell_type": "code",
   "execution_count": 204,
   "metadata": {},
   "outputs": [],
   "source": [
    "def reverse(prediction, previous_value):    \n",
    "    return (previous_value+1)*np.exp(prediction)-1"
   ]
  },
  {
   "cell_type": "code",
   "execution_count": 205,
   "metadata": {},
   "outputs": [],
   "source": [
    "new_df = pd.DataFrame({\n",
    "    \"Company\": preds_xgb[preds_xgb[\"Year\"] == 2025][\"Company\"],\n",
    "    \"Market\": preds_xgb[preds_xgb[\"Year\"] == 2025][\"Market\"],\n",
    "    \"SubMarket\": preds_xgb[preds_xgb[\"Year\"] == 2025][\"SubMarket\"],\n",
    "    \"Device\": preds_xgb[preds_xgb[\"Year\"] == 2025][\"Device\"]\n",
    "})\n"
   ]
  },
  {
   "cell_type": "code",
   "execution_count": 206,
   "metadata": {},
   "outputs": [],
   "source": [
    "merged1 = new_df.merge(preds_xgb[preds_xgb[\"Year\"]==2025], how=\"left\", on=[\"Company\", \"Market\", \"SubMarket\",\"Device\"])\n",
    "merged1.rename({\"Pred\":\"25_pred_xgb\"}, axis=1, inplace=True)\n",
    "merged1.drop(\"Year\", axis=1, inplace=True)\n",
    "\n",
    "merged2 = merged1.merge(preds_xgb[preds_xgb[\"Year\"]==2026], how=\"left\", on=[\"Company\", \"Market\", \"SubMarket\",\"Device\"])\n",
    "merged2.rename({\"Pred\":\"26_pred_xgb\"}, axis=1, inplace=True)\n",
    "merged2.drop(\"Year\", axis=1, inplace=True)\n",
    "\n",
    "merged3 = merged2.merge(preds_xgb[preds_xgb[\"Year\"]==2027], how=\"left\", on=[\"Company\", \"Market\", \"SubMarket\",\"Device\"])\n",
    "merged3.rename({\"Pred\":\"27_pred_xgb\"}, axis=1, inplace=True)\n",
    "merged3.drop(\"Year\", axis=1, inplace=True)\n",
    "\n",
    "df = merged3.merge(df, how=\"left\", on=[\"Company\", \"Market\", \"SubMarket\",\"Device\"])"
   ]
  },
  {
   "cell_type": "code",
   "execution_count": 207,
   "metadata": {},
   "outputs": [],
   "source": [
    "for i in range(df.shape[0]):\n",
    "    df.loc[i,\"2025_company_spending_xgb\"]=reverse(df.loc[i,\"25_pred_xgb\"], df.loc[i,\"2024_company_spending_actual\"])\n",
    "\n",
    "for i in range(df.shape[0]):\n",
    "    df.loc[i,\"2026_company_spending_xgb\"]=reverse(df.loc[i,\"26_pred_xgb\"], df.loc[i,\"2025_company_spending_xgb\"])\n",
    "\n",
    "for i in range(df.shape[0]):\n",
    "    df.loc[i,\"2027_company_spending_xgb\"]=reverse(df.loc[i,\"27_pred_xgb\"], df.loc[i,\"2026_company_spending_xgb\"])\n"
   ]
  },
  {
   "cell_type": "code",
   "execution_count": 209,
   "metadata": {},
   "outputs": [],
   "source": [
    "df.drop([\"25_pred_xgb\", \"26_pred_xgb\", \"27_pred_xgb\"], axis=1, inplace=True)"
   ]
  },
  {
   "cell_type": "code",
   "execution_count": 211,
   "metadata": {},
   "outputs": [],
   "source": [
    "df.to_csv(\"../clean_data/final_predictions_25_27.csv\")"
   ]
  },
  {
   "cell_type": "markdown",
   "metadata": {},
   "source": [
    "## XGB on 2019-2024"
   ]
  },
  {
   "cell_type": "code",
   "execution_count": 236,
   "metadata": {},
   "outputs": [],
   "source": [
    "train = pd.read_csv(\"../clean_data/train_pred_xgb_log.csv\", index_col=0)\n",
    "test = pd.read_csv(\"../clean_data/test_pred_xgb_log.csv\", index_col=0)\n",
    "actual = pd.read_csv(\"../clean_data/final_df.csv\", index_col=0)"
   ]
  },
  {
   "cell_type": "code",
   "execution_count": 237,
   "metadata": {},
   "outputs": [],
   "source": [
    "actual = actual[[\"Company\", \"Device\", \"Market\", \"SubMarket\", \"Year\", \"Value\"]]"
   ]
  },
  {
   "cell_type": "code",
   "execution_count": 238,
   "metadata": {},
   "outputs": [
    {
     "name": "stderr",
     "output_type": "stream",
     "text": [
      "/var/folders/px/tjlhxsg56bg6d74d3c4cnhrc0000gn/T/ipykernel_1937/304948972.py:2: SettingWithCopyWarning: \n",
      "A value is trying to be set on a copy of a slice from a DataFrame\n",
      "\n",
      "See the caveats in the documentation: https://pandas.pydata.org/pandas-docs/stable/user_guide/indexing.html#returning-a-view-versus-a-copy\n",
      "  df.drop(\"Year\", axis=1, inplace=True)\n",
      "/var/folders/px/tjlhxsg56bg6d74d3c4cnhrc0000gn/T/ipykernel_1937/304948972.py:3: SettingWithCopyWarning: \n",
      "A value is trying to be set on a copy of a slice from a DataFrame\n",
      "\n",
      "See the caveats in the documentation: https://pandas.pydata.org/pandas-docs/stable/user_guide/indexing.html#returning-a-view-versus-a-copy\n",
      "  df.rename({\"Pred\":\"19_pred_xgb\"}, axis=1, inplace=True)\n"
     ]
    }
   ],
   "source": [
    "df = train[train[\"Year\"]==2019]\n",
    "df.drop(\"Year\", axis=1, inplace=True)\n",
    "df.rename({\"Pred\":\"19_pred_xgb\"}, axis=1, inplace=True)"
   ]
  },
  {
   "cell_type": "code",
   "execution_count": 239,
   "metadata": {},
   "outputs": [],
   "source": [
    "merged1 = df.merge(train[train[\"Year\"]==2020], how=\"left\", on=[\"Company\", \"Market\", \"SubMarket\",\"Device\"])\n",
    "merged1.rename({\"Pred\":\"20_pred_xgb\"}, axis=1, inplace=True)\n",
    "merged1.drop(\"Year\", axis=1, inplace=True)\n",
    "\n",
    "merged2 = merged1.merge(train[train[\"Year\"]==2021], how=\"left\", on=[\"Company\", \"Market\", \"SubMarket\",\"Device\"])\n",
    "merged2.rename({\"Pred\":\"21_pred_xgb\"}, axis=1, inplace=True)\n",
    "merged2.drop(\"Year\", axis=1, inplace=True)\n",
    "\n",
    "merged3 = merged2.merge(train[train[\"Year\"]==2022], how=\"left\", on=[\"Company\", \"Market\", \"SubMarket\",\"Device\"])\n",
    "merged3.rename({\"Pred\":\"22_pred_xgb\"}, axis=1, inplace=True)\n",
    "merged3.drop(\"Year\", axis=1, inplace=True)\n",
    "\n",
    "df = merged3"
   ]
  },
  {
   "cell_type": "code",
   "execution_count": 240,
   "metadata": {},
   "outputs": [],
   "source": [
    "merged1 = df.merge(actual[actual[\"Year\"]==2018], how=\"left\", on=[\"Company\", \"Market\", \"SubMarket\",\"Device\"])\n",
    "merged1.rename({\"Value\":\"18_actual\"}, axis=1, inplace=True)\n",
    "merged1.drop(\"Year\", axis=1, inplace=True)\n",
    "\n",
    "merged2 = merged1.merge(actual[actual[\"Year\"]==2019], how=\"left\", on=[\"Company\", \"Market\", \"SubMarket\",\"Device\"])\n",
    "merged2.rename({\"Value\":\"19_actual\"}, axis=1, inplace=True)\n",
    "merged2.drop(\"Year\", axis=1, inplace=True)\n",
    "\n",
    "merged3 = merged2.merge(actual[actual[\"Year\"]==2020], how=\"left\", on=[\"Company\", \"Market\", \"SubMarket\",\"Device\"])\n",
    "merged3.rename({\"Value\":\"20_actual\"}, axis=1, inplace=True)\n",
    "merged3.drop(\"Year\", axis=1, inplace=True)\n",
    "\n",
    "merged4 = merged3.merge(actual[actual[\"Year\"]==2021], how=\"left\", on=[\"Company\", \"Market\", \"SubMarket\",\"Device\"])\n",
    "merged4.rename({\"Value\":\"21_actual\"}, axis=1, inplace=True)\n",
    "merged4.drop(\"Year\", axis=1, inplace=True)\n",
    "\n",
    "merged5 = merged4.merge(actual[actual[\"Year\"]==2022], how=\"left\", on=[\"Company\", \"Market\", \"SubMarket\",\"Device\"])\n",
    "merged5.rename({\"Value\":\"22_actual\"}, axis=1, inplace=True)\n",
    "merged5.drop(\"Year\", axis=1, inplace=True)\n",
    "\n",
    "merged6 = merged5.merge(actual[actual[\"Year\"]==2023], how=\"left\", on=[\"Company\", \"Market\", \"SubMarket\",\"Device\"])\n",
    "merged6.rename({\"Value\":\"23_actual\"}, axis=1, inplace=True)\n",
    "merged6.drop(\"Year\", axis=1, inplace=True)\n",
    "\n",
    "merged7 = merged6.merge(actual[actual[\"Year\"]==2024], how=\"left\", on=[\"Company\", \"Market\", \"SubMarket\",\"Device\"])\n",
    "merged7.rename({\"Value\":\"24_actual\"}, axis=1, inplace=True)\n",
    "merged7.drop(\"Year\", axis=1, inplace=True)\n",
    "\n",
    "df = merged7"
   ]
  },
  {
   "cell_type": "code",
   "execution_count": 241,
   "metadata": {},
   "outputs": [],
   "source": [
    "merged1 = df.merge(test[test[\"Year\"]==2023], how=\"left\", on=[\"Company\", \"Market\", \"SubMarket\",\"Device\"])\n",
    "merged1.rename({\"Pred\":\"23_pred_xgb\"}, axis=1, inplace=True)\n",
    "merged1.drop(\"Year\", axis=1, inplace=True)\n",
    "\n",
    "merged2 = merged1.merge(test[test[\"Year\"]==2024], how=\"left\", on=[\"Company\", \"Market\", \"SubMarket\",\"Device\"])\n",
    "merged2.rename({\"Pred\":\"24_pred_xgb\"}, axis=1, inplace=True)\n",
    "merged2.drop(\"Year\", axis=1, inplace=True)\n",
    "\n",
    "df = merged2"
   ]
  },
  {
   "cell_type": "code",
   "execution_count": 243,
   "metadata": {},
   "outputs": [],
   "source": [
    "for i in range(df.shape[0]):\n",
    "    df.loc[i,\"2019_company_spending_xgb\"]=reverse(df.loc[i,\"19_pred_xgb\"], df.loc[i,\"18_actual\"])\n",
    "\n",
    "for i in range(df.shape[0]):\n",
    "    df.loc[i,\"2020_company_spending_xgb\"]=reverse(df.loc[i,\"20_pred_xgb\"], df.loc[i,\"19_actual\"])\n",
    "\n",
    "for i in range(df.shape[0]):\n",
    "    df.loc[i,\"2021_company_spending_xgb\"]=reverse(df.loc[i,\"21_pred_xgb\"], df.loc[i,\"20_actual\"])\n",
    "\n",
    "for i in range(df.shape[0]):\n",
    "    df.loc[i,\"2022_company_spending_xgb\"]=reverse(df.loc[i,\"22_pred_xgb\"], df.loc[i,\"21_actual\"])\n",
    "\n",
    "for i in range(df.shape[0]):\n",
    "    df.loc[i,\"2023_company_spending_xgb\"]=reverse(df.loc[i,\"23_pred_xgb\"], df.loc[i,\"22_actual\"])\n",
    "\n",
    "for i in range(df.shape[0]):\n",
    "    df.loc[i,\"2024_company_spending_xgb\"]=reverse(df.loc[i,\"24_pred_xgb\"], df.loc[i,\"23_actual\"])"
   ]
  },
  {
   "cell_type": "code",
   "execution_count": 244,
   "metadata": {},
   "outputs": [],
   "source": [
    "df.drop([\"19_pred_xgb\", \"20_pred_xgb\", \"21_pred_xgb\", \"22_pred_xgb\", \"23_pred_xgb\", \"24_pred_xgb\", \"18_actual\"], axis=1, inplace=True)"
   ]
  },
  {
   "cell_type": "code",
   "execution_count": 258,
   "metadata": {},
   "outputs": [],
   "source": [
    "dic={}\n",
    "for i in range(df.shape[0]):\n",
    "    for j in range(4,10):\n",
    "        dic[f\"df.iloc[{i},{j}]_{i}_{j}\"]={\"Year\":j+2015, \"Company\": df.iloc[i,0], \"Device\": df.iloc[i,1], \"Market\": df.iloc[i,2], \"SubMarket\":df.iloc[i,3], \"Value\": df.iloc[i,j], \"Actual\":1}\n",
    "\n",
    "for i in range(df.shape[0]):\n",
    "    for j in range(10,16):\n",
    "        dic[f\"df.iloc[{i},{j}]_{i}_{j}\"]={\"Year\":j+2009, \"Company\": df.iloc[i,0], \"Device\": df.iloc[i,1], \"Market\": df.iloc[i,2], \"SubMarket\":df.iloc[i,3], \"Value\": df.iloc[i,j], \"Actual\":0}\n",
    "\n"
   ]
  },
  {
   "cell_type": "code",
   "execution_count": 263,
   "metadata": {},
   "outputs": [],
   "source": [
    "new_df1 = pd.DataFrame(columns=[\"Company\", \"Market\", \"SubMarket\", \"Device\", \"Year\", \"Actual\"])\n",
    "new_df2 = pd.DataFrame(columns=[\"Company\", \"Market\", \"SubMarket\", \"Device\", \"Year\", \"Pred\"])\n",
    "for i in range(len(dic)):\n",
    "    match = re.search(r'df\\.iloc\\[(\\d+),(\\d+)\\]_(\\d+)_(\\d+)', list(dic.keys())[i])\n",
    "    a, b = int(match.group(1)), int(match.group(2))\n",
    "    if dic[list(dic.keys())[i]][\"Actual\"]==1:\n",
    "        new_df1.loc[i, \"Actual\"] = df.iloc[a,b]\n",
    "        new_df1.loc[i, \"Company\"] = dic[list(dic.keys())[i]][\"Company\"]\n",
    "        new_df1.loc[i, \"Market\"] = dic[list(dic.keys())[i]][\"Market\"]\n",
    "        new_df1.loc[i, \"SubMarket\"] = dic[list(dic.keys())[i]][\"SubMarket\"]\n",
    "        new_df1.loc[i, \"Device\"] = dic[list(dic.keys())[i]][\"Device\"]\n",
    "        new_df1.loc[i, \"Year\"] = dic[list(dic.keys())[i]][\"Year\"]\n",
    "    elif dic[list(dic.keys())[i]][\"Actual\"]==0:\n",
    "        new_df2.loc[i, \"Pred\"] = df.iloc[a,b]\n",
    "        new_df2.loc[i, \"Company\"] = dic[list(dic.keys())[i]][\"Company\"]\n",
    "        new_df2.loc[i, \"Market\"] = dic[list(dic.keys())[i]][\"Market\"]\n",
    "        new_df2.loc[i, \"SubMarket\"] = dic[list(dic.keys())[i]][\"SubMarket\"]\n",
    "        new_df2.loc[i, \"Device\"] = dic[list(dic.keys())[i]][\"Device\"]\n",
    "        new_df2.loc[i, \"Year\"] = dic[list(dic.keys())[i]][\"Year\"]\n",
    "\n",
    "new_df = new_df1.merge(new_df2, how=\"left\", on=[\"Company\", \"Market\", \"SubMarket\", \"Device\", \"Year\"]) "
   ]
  },
  {
   "cell_type": "code",
   "execution_count": 265,
   "metadata": {},
   "outputs": [],
   "source": [
    "new_df.to_csv(\"../clean_data/xgb_pred_2019_2024.csv\")"
   ]
  },
  {
   "cell_type": "markdown",
   "metadata": {},
   "source": [
    "## RF on 2019-2024"
   ]
  },
  {
   "cell_type": "code",
   "execution_count": 273,
   "metadata": {},
   "outputs": [],
   "source": [
    "train = pd.read_csv(\"../clean_data/train_pred_rf_log.csv\", index_col=0)\n",
    "test = pd.read_csv(\"../clean_data/test_pred_rf_log.csv\", index_col=0)\n",
    "actual = pd.read_csv(\"../clean_data/final_df.csv\", index_col=0)"
   ]
  },
  {
   "cell_type": "code",
   "execution_count": 274,
   "metadata": {},
   "outputs": [],
   "source": [
    "actual = actual[[\"Company\", \"Device\", \"Market\", \"SubMarket\", \"Year\", \"Value\"]]"
   ]
  },
  {
   "cell_type": "code",
   "execution_count": 275,
   "metadata": {},
   "outputs": [
    {
     "name": "stderr",
     "output_type": "stream",
     "text": [
      "/var/folders/px/tjlhxsg56bg6d74d3c4cnhrc0000gn/T/ipykernel_1937/1537488590.py:2: SettingWithCopyWarning: \n",
      "A value is trying to be set on a copy of a slice from a DataFrame\n",
      "\n",
      "See the caveats in the documentation: https://pandas.pydata.org/pandas-docs/stable/user_guide/indexing.html#returning-a-view-versus-a-copy\n",
      "  df.drop(\"Year\", axis=1, inplace=True)\n",
      "/var/folders/px/tjlhxsg56bg6d74d3c4cnhrc0000gn/T/ipykernel_1937/1537488590.py:3: SettingWithCopyWarning: \n",
      "A value is trying to be set on a copy of a slice from a DataFrame\n",
      "\n",
      "See the caveats in the documentation: https://pandas.pydata.org/pandas-docs/stable/user_guide/indexing.html#returning-a-view-versus-a-copy\n",
      "  df.rename({\"Pred\":\"19_pred_rf\"}, axis=1, inplace=True)\n"
     ]
    }
   ],
   "source": [
    "df = train[train[\"Year\"]==2019]\n",
    "df.drop(\"Year\", axis=1, inplace=True)\n",
    "df.rename({\"Pred\":\"19_pred_rf\"}, axis=1, inplace=True)"
   ]
  },
  {
   "cell_type": "code",
   "execution_count": 276,
   "metadata": {},
   "outputs": [],
   "source": [
    "merged1 = df.merge(train[train[\"Year\"]==2020], how=\"left\", on=[\"Company\", \"Market\", \"SubMarket\",\"Device\"])\n",
    "merged1.rename({\"Pred\":\"20_pred_rf\"}, axis=1, inplace=True)\n",
    "merged1.drop(\"Year\", axis=1, inplace=True)\n",
    "\n",
    "merged2 = merged1.merge(train[train[\"Year\"]==2021], how=\"left\", on=[\"Company\", \"Market\", \"SubMarket\",\"Device\"])\n",
    "merged2.rename({\"Pred\":\"21_pred_rf\"}, axis=1, inplace=True)\n",
    "merged2.drop(\"Year\", axis=1, inplace=True)\n",
    "\n",
    "merged3 = merged2.merge(train[train[\"Year\"]==2022], how=\"left\", on=[\"Company\", \"Market\", \"SubMarket\",\"Device\"])\n",
    "merged3.rename({\"Pred\":\"22_pred_rf\"}, axis=1, inplace=True)\n",
    "merged3.drop(\"Year\", axis=1, inplace=True)\n",
    "\n",
    "df = merged3"
   ]
  },
  {
   "cell_type": "code",
   "execution_count": 277,
   "metadata": {},
   "outputs": [],
   "source": [
    "merged1 = df.merge(actual[actual[\"Year\"]==2018], how=\"left\", on=[\"Company\", \"Market\", \"SubMarket\",\"Device\"])\n",
    "merged1.rename({\"Value\":\"18_actual\"}, axis=1, inplace=True)\n",
    "merged1.drop(\"Year\", axis=1, inplace=True)\n",
    "\n",
    "merged2 = merged1.merge(actual[actual[\"Year\"]==2019], how=\"left\", on=[\"Company\", \"Market\", \"SubMarket\",\"Device\"])\n",
    "merged2.rename({\"Value\":\"19_actual\"}, axis=1, inplace=True)\n",
    "merged2.drop(\"Year\", axis=1, inplace=True)\n",
    "\n",
    "merged3 = merged2.merge(actual[actual[\"Year\"]==2020], how=\"left\", on=[\"Company\", \"Market\", \"SubMarket\",\"Device\"])\n",
    "merged3.rename({\"Value\":\"20_actual\"}, axis=1, inplace=True)\n",
    "merged3.drop(\"Year\", axis=1, inplace=True)\n",
    "\n",
    "merged4 = merged3.merge(actual[actual[\"Year\"]==2021], how=\"left\", on=[\"Company\", \"Market\", \"SubMarket\",\"Device\"])\n",
    "merged4.rename({\"Value\":\"21_actual\"}, axis=1, inplace=True)\n",
    "merged4.drop(\"Year\", axis=1, inplace=True)\n",
    "\n",
    "merged5 = merged4.merge(actual[actual[\"Year\"]==2022], how=\"left\", on=[\"Company\", \"Market\", \"SubMarket\",\"Device\"])\n",
    "merged5.rename({\"Value\":\"22_actual\"}, axis=1, inplace=True)\n",
    "merged5.drop(\"Year\", axis=1, inplace=True)\n",
    "\n",
    "merged6 = merged5.merge(actual[actual[\"Year\"]==2023], how=\"left\", on=[\"Company\", \"Market\", \"SubMarket\",\"Device\"])\n",
    "merged6.rename({\"Value\":\"23_actual\"}, axis=1, inplace=True)\n",
    "merged6.drop(\"Year\", axis=1, inplace=True)\n",
    "\n",
    "merged7 = merged6.merge(actual[actual[\"Year\"]==2024], how=\"left\", on=[\"Company\", \"Market\", \"SubMarket\",\"Device\"])\n",
    "merged7.rename({\"Value\":\"24_actual\"}, axis=1, inplace=True)\n",
    "merged7.drop(\"Year\", axis=1, inplace=True)\n",
    "\n",
    "df = merged7"
   ]
  },
  {
   "cell_type": "code",
   "execution_count": 278,
   "metadata": {},
   "outputs": [],
   "source": [
    "merged1 = df.merge(test[test[\"Year\"]==2023], how=\"left\", on=[\"Company\", \"Market\", \"SubMarket\",\"Device\"])\n",
    "merged1.rename({\"Pred\":\"23_pred_rf\"}, axis=1, inplace=True)\n",
    "merged1.drop(\"Year\", axis=1, inplace=True)\n",
    "\n",
    "merged2 = merged1.merge(test[test[\"Year\"]==2024], how=\"left\", on=[\"Company\", \"Market\", \"SubMarket\",\"Device\"])\n",
    "merged2.rename({\"Pred\":\"24_pred_rf\"}, axis=1, inplace=True)\n",
    "merged2.drop(\"Year\", axis=1, inplace=True)\n",
    "\n",
    "df = merged2"
   ]
  },
  {
   "cell_type": "code",
   "execution_count": 279,
   "metadata": {},
   "outputs": [],
   "source": [
    "for i in range(df.shape[0]):\n",
    "    df.loc[i,\"2019_company_spending_rf\"]=reverse(df.loc[i,\"19_pred_rf\"], df.loc[i,\"18_actual\"])\n",
    "\n",
    "for i in range(df.shape[0]):\n",
    "    df.loc[i,\"2020_company_spending_rf\"]=reverse(df.loc[i,\"20_pred_rf\"], df.loc[i,\"19_actual\"])\n",
    "\n",
    "for i in range(df.shape[0]):\n",
    "    df.loc[i,\"2021_company_spending_rf\"]=reverse(df.loc[i,\"21_pred_rf\"], df.loc[i,\"20_actual\"])\n",
    "\n",
    "for i in range(df.shape[0]):\n",
    "    df.loc[i,\"2022_company_spending_rf\"]=reverse(df.loc[i,\"22_pred_rf\"], df.loc[i,\"21_actual\"])\n",
    "\n",
    "for i in range(df.shape[0]):\n",
    "    df.loc[i,\"2023_company_spending_rf\"]=reverse(df.loc[i,\"23_pred_rf\"], df.loc[i,\"22_actual\"])\n",
    "\n",
    "for i in range(df.shape[0]):\n",
    "    df.loc[i,\"2024_company_spending_rf\"]=reverse(df.loc[i,\"24_pred_rf\"], df.loc[i,\"23_actual\"])"
   ]
  },
  {
   "cell_type": "code",
   "execution_count": 280,
   "metadata": {},
   "outputs": [],
   "source": [
    "df.drop([\"19_pred_rf\", \"20_pred_rf\", \"21_pred_rf\", \"22_pred_rf\", \"23_pred_rf\", \"24_pred_rf\", \"18_actual\"], axis=1, inplace=True)"
   ]
  },
  {
   "cell_type": "code",
   "execution_count": 281,
   "metadata": {},
   "outputs": [],
   "source": [
    "dic={}\n",
    "for i in range(df.shape[0]):\n",
    "    for j in range(4,10):\n",
    "        dic[f\"df.iloc[{i},{j}]_{i}_{j}\"]={\"Year\":j+2015, \"Company\": df.iloc[i,0], \"Device\": df.iloc[i,1], \"Market\": df.iloc[i,2], \"SubMarket\":df.iloc[i,3], \"Value\": df.iloc[i,j], \"Actual\":1}\n",
    "\n",
    "for i in range(df.shape[0]):\n",
    "    for j in range(10,16):\n",
    "        dic[f\"df.iloc[{i},{j}]_{i}_{j}\"]={\"Year\":j+2009, \"Company\": df.iloc[i,0], \"Device\": df.iloc[i,1], \"Market\": df.iloc[i,2], \"SubMarket\":df.iloc[i,3], \"Value\": df.iloc[i,j], \"Actual\":0}\n",
    "\n"
   ]
  },
  {
   "cell_type": "code",
   "execution_count": 282,
   "metadata": {},
   "outputs": [],
   "source": [
    "new_df1 = pd.DataFrame(columns=[\"Company\", \"Market\", \"SubMarket\", \"Device\", \"Year\", \"Actual\"])\n",
    "new_df2 = pd.DataFrame(columns=[\"Company\", \"Market\", \"SubMarket\", \"Device\", \"Year\", \"Pred\"])\n",
    "for i in range(len(dic)):\n",
    "    match = re.search(r'df\\.iloc\\[(\\d+),(\\d+)\\]_(\\d+)_(\\d+)', list(dic.keys())[i])\n",
    "    a, b = int(match.group(1)), int(match.group(2))\n",
    "    if dic[list(dic.keys())[i]][\"Actual\"]==1:\n",
    "        new_df1.loc[i, \"Actual\"] = df.iloc[a,b]\n",
    "        new_df1.loc[i, \"Company\"] = dic[list(dic.keys())[i]][\"Company\"]\n",
    "        new_df1.loc[i, \"Market\"] = dic[list(dic.keys())[i]][\"Market\"]\n",
    "        new_df1.loc[i, \"SubMarket\"] = dic[list(dic.keys())[i]][\"SubMarket\"]\n",
    "        new_df1.loc[i, \"Device\"] = dic[list(dic.keys())[i]][\"Device\"]\n",
    "        new_df1.loc[i, \"Year\"] = dic[list(dic.keys())[i]][\"Year\"]\n",
    "    elif dic[list(dic.keys())[i]][\"Actual\"]==0:\n",
    "        new_df2.loc[i, \"Pred\"] = df.iloc[a,b]\n",
    "        new_df2.loc[i, \"Company\"] = dic[list(dic.keys())[i]][\"Company\"]\n",
    "        new_df2.loc[i, \"Market\"] = dic[list(dic.keys())[i]][\"Market\"]\n",
    "        new_df2.loc[i, \"SubMarket\"] = dic[list(dic.keys())[i]][\"SubMarket\"]\n",
    "        new_df2.loc[i, \"Device\"] = dic[list(dic.keys())[i]][\"Device\"]\n",
    "        new_df2.loc[i, \"Year\"] = dic[list(dic.keys())[i]][\"Year\"]\n",
    "\n",
    "new_df = new_df1.merge(new_df2, how=\"left\", on=[\"Company\", \"Market\", \"SubMarket\", \"Device\", \"Year\"]) "
   ]
  },
  {
   "cell_type": "code",
   "execution_count": 284,
   "metadata": {},
   "outputs": [],
   "source": [
    "new_df.to_csv(\"../clean_data/rf_pred_2019_2024.csv\")"
   ]
  }
 ],
 "metadata": {
  "kernelspec": {
   "display_name": "base",
   "language": "python",
   "name": "python3"
  },
  "language_info": {
   "codemirror_mode": {
    "name": "ipython",
    "version": 3
   },
   "file_extension": ".py",
   "mimetype": "text/x-python",
   "name": "python",
   "nbconvert_exporter": "python",
   "pygments_lexer": "ipython3",
   "version": "3.11.5"
  }
 },
 "nbformat": 4,
 "nbformat_minor": 2
}
