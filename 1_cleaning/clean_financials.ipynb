{
 "cells": [
  {
   "cell_type": "markdown",
   "id": "5396e2ad",
   "metadata": {},
   "source": [
    "# Clean the S&P financial dataset"
   ]
  },
  {
   "cell_type": "code",
   "execution_count": 2,
   "id": "cdd7b70d",
   "metadata": {},
   "outputs": [],
   "source": [
    "# Import necessary packages\n",
    "import numpy as np\n",
    "import matplotlib.pyplot as plt\n",
    "import pandas as pd\n",
    "from sklearn.linear_model import LinearRegression\n",
    "from sklearn import linear_model\n",
    "from sklearn import preprocessing\n",
    "from scipy import stats\n",
    "import statsmodels.api as sm"
   ]
  },
  {
   "cell_type": "markdown",
   "id": "960aa955",
   "metadata": {},
   "source": [
    "## Import and read financial data"
   ]
  },
  {
   "cell_type": "code",
   "execution_count": 3,
   "id": "f8626d6a",
   "metadata": {},
   "outputs": [],
   "source": [
    "# Specify the path to the financials Excel file\n",
    "excel_file = \"../input_data/financials.xls\""
   ]
  },
  {
   "cell_type": "code",
   "execution_count": 4,
   "id": "92105481",
   "metadata": {},
   "outputs": [],
   "source": [
    "# Read the 'TOTAL REVENUE' sheet from the Excel file\n",
    "df_revenue = pd.read_excel(excel_file, sheet_name=\"TOTAL REVENUE\", header=13, usecols=\"A:M\")\n",
    "\n",
    "# Read the 'EBITDA' sheet from the Excel file\n",
    "df_ebitda = pd.read_excel(excel_file, sheet_name=\"EBITDA\", header=13, usecols=\"A:M\")\n",
    "\n",
    "# Read the 'Cost of Goods Sold' sheet from the Excel file\n",
    "df_cogs = pd.read_excel(excel_file, sheet_name=\"Cost of Goods Sold\", header=13, usecols=\"A:H\")"
   ]
  },
  {
   "cell_type": "markdown",
   "id": "fcb101a6",
   "metadata": {},
   "source": [
    "## Identify and remove missing values"
   ]
  },
  {
   "cell_type": "code",
   "execution_count": 5,
   "id": "18fac9fc",
   "metadata": {},
   "outputs": [],
   "source": [
    "# Identify rows with missing values in the COGS sheet\n",
    "mask_cogs = (df_cogs == \"-\").any(axis=1)"
   ]
  },
  {
   "cell_type": "code",
   "execution_count": 6,
   "id": "5d28d047",
   "metadata": {},
   "outputs": [],
   "source": [
    "# Retrieve rows with missing values in the COGS sheet\n",
    "filtered_rows_cogs = df_cogs[mask_cogs]\n",
    "company_names_cogs = filtered_rows_cogs['Company Name']"
   ]
  },
  {
   "cell_type": "code",
   "execution_count": 7,
   "id": "8ebf8294",
   "metadata": {},
   "outputs": [],
   "source": [
    "# Remove rows with missing values in COGS from all datasets\n",
    "df_revenue = df_revenue[~mask_cogs]\n",
    "df_ebitda = df_ebitda[~mask_cogs]\n",
    "df_cogs = df_cogs[~mask_cogs]"
   ]
  },
  {
   "cell_type": "code",
   "execution_count": 8,
   "id": "c4316008",
   "metadata": {},
   "outputs": [],
   "source": [
    "# Identify rows in the EBITDA sheet with missing values before 2023\n",
    "mask_ebitda = (df_ebitda.iloc[:, :8] == \"-\").any(axis=1)\n",
    "filtered_rows_ebitda = df_ebitda[mask_ebitda]\n",
    "company_names_ebitda = filtered_rows_ebitda['Company Name']"
   ]
  },
  {
   "cell_type": "code",
   "execution_count": 9,
   "id": "3d346d18",
   "metadata": {},
   "outputs": [],
   "source": [
    "# Remove these rows from all datasets\n",
    "df_revenue = df_revenue[~mask_ebitda]\n",
    "df_ebitda = df_ebitda[~mask_ebitda]\n",
    "df_cogs = df_cogs[~mask_ebitda]"
   ]
  },
  {
   "cell_type": "markdown",
   "id": "6c41463d",
   "metadata": {},
   "source": [
    "## Revenue - use OLS to predict missing values for 2023-2027"
   ]
  },
  {
   "cell_type": "code",
   "execution_count": 10,
   "id": "4668a0b2",
   "metadata": {},
   "outputs": [],
   "source": [
    "# Set column names for the revenue dataframe\n",
    "col_names = ['Company name', '2016', '2017', '2018', '2019', '2020', '2021', '2022', \"2023\", \"2024\", \"2025\", \"2026\", \"2027\"]\n",
    "df_revenue.columns = col_names"
   ]
  },
  {
   "cell_type": "code",
   "execution_count": 11,
   "id": "7cd874af",
   "metadata": {},
   "outputs": [],
   "source": [
    "# Reshape revenue dataframe for OLS regression\n",
    "ols_revenue_data = df_revenue[['Company name', '2016', '2017', '2018', '2019', '2020', '2021', '2022']]\n",
    "new_df_revenue = []\n",
    "for company in ols_revenue_data[\"Company name\"]:\n",
    "    for year in list(ols_revenue_data.columns)[1:]:\n",
    "        value = ols_revenue_data.loc[ols_revenue_data[\"Company name\"] == company, year].values[0]\n",
    "        new_df_revenue.append([company, year, value])\n",
    "\n",
    "new_df_revenue = pd.DataFrame(new_df_revenue, columns=[\"Company\", \"Year\", \"Revenue\"])"
   ]
  },
  {
   "cell_type": "code",
   "execution_count": 12,
   "id": "cc463e76",
   "metadata": {},
   "outputs": [],
   "source": [
    "# Prepare data for OLS regression\n",
    "new_df_revenue['Year'] = new_df_revenue['Year'].astype(int)\n",
    "new_df_revenue['Value'] = pd.to_numeric(new_df_revenue['Revenue'], errors='coerce')\n",
    "grouped_rev = new_df_revenue.groupby('Company')"
   ]
  },
  {
   "cell_type": "code",
   "execution_count": 13,
   "id": "55617ceb",
   "metadata": {},
   "outputs": [],
   "source": [
    "# Fit OLS model for each company and predict revenue from 2023-2027\n",
    "ols_models = {}\n",
    "for name, group in grouped_rev:\n",
    "    X = sm.add_constant(group['Year'])\n",
    "    y = group['Revenue']\n",
    "    model = sm.OLS(y, X).fit()\n",
    "    ols_models[name] = model"
   ]
  },
  {
   "cell_type": "code",
   "execution_count": 14,
   "id": "d0e8f79d",
   "metadata": {},
   "outputs": [],
   "source": [
    "# Predict future revenue using the OLS models\n",
    "companies = df_revenue[\"Company name\"].tolist()\n",
    "new_rev = []\n",
    "for company in companies:\n",
    "    model = ols_models.get(company)\n",
    "    year_prediction = [model.predict([1, year])[0] for year in [2023, 2024, 2025, 2026, 2027]]\n",
    "    new_rev.append(year_prediction)"
   ]
  },
  {
   "cell_type": "code",
   "execution_count": 15,
   "id": "9a3032a6",
   "metadata": {},
   "outputs": [],
   "source": [
    "# Create a dataframe for predicted revenue\n",
    "new_rev_df = pd.DataFrame(new_rev, columns=[\"2023\", \"2024\", \"2025\", \"2026\", \"2027\"])\n",
    "new_rev_df.insert(0, \"Company name\", companies)"
   ]
  },
  {
   "cell_type": "code",
   "execution_count": 16,
   "id": "e24e82c7",
   "metadata": {},
   "outputs": [],
   "source": [
    "# Merge original and predicted revenue data\n",
    "merged_rev = pd.merge(ols_revenue_data, new_rev_df, on='Company name', how='inner')"
   ]
  },
  {
   "cell_type": "code",
   "execution_count": 17,
   "id": "ec916dcd",
   "metadata": {},
   "outputs": [],
   "source": [
    "# Create final revenue dataframe with all OLS predictions\n",
    "df_revenue_complete = []\n",
    "for company in merged_rev[\"Company name\"]:\n",
    "    for year in list(merged_rev.columns)[1:]:\n",
    "        value = merged_rev.loc[merged_rev[\"Company name\"] == company, year].values[0]\n",
    "        df_revenue_complete.append([company, year, value])\n",
    "\n",
    "df_revenue_complete = pd.DataFrame(df_revenue_complete, columns=[\"Company\", \"Year\", \"Revenue\"])"
   ]
  },
  {
   "cell_type": "code",
   "execution_count": 18,
   "id": "42cefa4b",
   "metadata": {},
   "outputs": [],
   "source": [
    "# Create the actual dataframe with missing values filled in\n",
    "df_revenue_real = []\n",
    "for company in df_revenue[\"Company name\"]:\n",
    "    for year in list(df_revenue.columns)[1:]:\n",
    "        value = df_revenue.loc[df_revenue[\"Company name\"] == company, year].values[0]\n",
    "        df_revenue_real.append([company, year, value])\n",
    "\n",
    "df_revenue_real = pd.DataFrame(df_revenue_real, columns=[\"Company\", \"Year\", \"Revenue\"])"
   ]
  },
  {
   "cell_type": "code",
   "execution_count": 19,
   "id": "e9678762",
   "metadata": {},
   "outputs": [],
   "source": [
    "# Substitute missing values in the initial dataframe with OLS predictions\n",
    "for i in range(len(df_revenue_real[\"Revenue\"])):\n",
    "    if df_revenue_real[\"Revenue\"][i] == \"-\":\n",
    "        df_revenue_real[\"Revenue\"][i] = df_revenue_complete.loc[i, \"Revenue\"]"
   ]
  },
  {
   "cell_type": "code",
   "execution_count": 20,
   "id": "169d9d37",
   "metadata": {},
   "outputs": [],
   "source": [
    "# Export the final revenue data to a CSV file\n",
    "df_revenue_real.to_csv('../clean_data/revenue_complete.csv', index=False)"
   ]
  },
  {
   "cell_type": "markdown",
   "id": "b9569748",
   "metadata": {},
   "source": [
    "## EBITDA - use OLS to predict missing values for 2023-2027"
   ]
  },
  {
   "cell_type": "code",
   "execution_count": 21,
   "id": "e48a3bfa",
   "metadata": {},
   "outputs": [],
   "source": [
    "# Rename columns for the EBITDA dataframe\n",
    "df_ebitda.columns = col_names"
   ]
  },
  {
   "cell_type": "code",
   "execution_count": 22,
   "id": "3f3786c6",
   "metadata": {},
   "outputs": [],
   "source": [
    "# Reshape EBITDA dataframe for OLS regression\n",
    "# This creates a similar structure to ols_revenue_data for EBITDA\n",
    "ols_ebitda_data = df_ebitda[['Company name', '2016', '2017', '2018', '2019', '2020', '2021', '2022']]\n",
    "new_df_ebitda = []\n",
    "for company in ols_ebitda_data[\"Company name\"]:\n",
    "    for year in list(ols_ebitda_data.columns)[1:]:\n",
    "        value = ols_ebitda_data.loc[ols_ebitda_data[\"Company name\"] == company, year].values[0]\n",
    "        new_df_ebitda.append([company, year, value])\n",
    "new_df_ebitda = pd.DataFrame(new_df_ebitda, columns=[\"Company\", \"Year\", \"Ebitda\"])"
   ]
  },
  {
   "cell_type": "code",
   "execution_count": 23,
   "id": "e1371be1",
   "metadata": {},
   "outputs": [],
   "source": [
    "# Prepare EBITDA data for OLS regression\n",
    "new_df_ebitda['Year'] = new_df_ebitda['Year'].astype(int)\n",
    "new_df_ebitda['Ebitda'] = pd.to_numeric(new_df_ebitda['Ebitda'], errors='coerce')\n",
    "grouped_ebi = new_df_ebitda.groupby('Company')"
   ]
  },
  {
   "cell_type": "code",
   "execution_count": 24,
   "id": "aa47ebb6",
   "metadata": {},
   "outputs": [],
   "source": [
    "# Fit OLS model for each company in the EBITDA data\n",
    "ols_models_ebi = {}\n",
    "for name, group in grouped_ebi:\n",
    "    X = sm.add_constant(group['Year'])\n",
    "    y = group['Ebitda']\n",
    "    model = sm.OLS(y, X).fit()\n",
    "    ols_models_ebi[name] = model"
   ]
  },
  {
   "cell_type": "code",
   "execution_count": 25,
   "id": "7c20b1e0",
   "metadata": {},
   "outputs": [],
   "source": [
    "# Predict EBITDA from 2023-2027 using the OLS model\n",
    "new_ebi = []\n",
    "for company in companies:  # Reuse the company list from revenue section\n",
    "    model = ols_models_ebi.get(company)\n",
    "    year_prediction = [model.predict([1, year])[0] for year in [2023, 2024, 2025, 2026, 2027]]\n",
    "    new_ebi.append(year_prediction)"
   ]
  },
  {
   "cell_type": "code",
   "execution_count": 26,
   "id": "d65bf1e6",
   "metadata": {},
   "outputs": [],
   "source": [
    "# Create a dataframe with the predicted EBITDA\n",
    "new_ebi_df = pd.DataFrame(new_ebi, columns=[\"2023\", \"2024\", \"2025\", \"2026\", \"2027\"])\n",
    "new_ebi_df.insert(0, \"Company name\", companies)"
   ]
  },
  {
   "cell_type": "code",
   "execution_count": 27,
   "id": "5a97e696",
   "metadata": {},
   "outputs": [],
   "source": [
    "# Merge the original and predicted EBITDA data\n",
    "merged_ebi = pd.merge(ols_ebitda_data, new_ebi_df, on='Company name', how='inner')"
   ]
  },
  {
   "cell_type": "code",
   "execution_count": 28,
   "id": "87bfbbe0",
   "metadata": {},
   "outputs": [],
   "source": [
    "# Create EBITDA dataframe with all OLS predictions for 2023-2027\n",
    "df_ebitda_complete = []\n",
    "for company in merged_ebi[\"Company name\"]:\n",
    "    for year in list(merged_ebi.columns)[1:]:\n",
    "        value = merged_ebi.loc[merged_ebi[\"Company name\"] == company, year].values[0]\n",
    "        df_ebitda_complete.append([company, year, value])\n",
    "\n",
    "df_ebitda_complete = pd.DataFrame(df_ebitda_complete, columns=[\"Company\", \"Year\", \"Ebitda\"])"
   ]
  },
  {
   "cell_type": "code",
   "execution_count": 29,
   "id": "860f7f80",
   "metadata": {},
   "outputs": [],
   "source": [
    "# Create the actual EBITDA dataframe with missing values filled in\n",
    "df_ebitda_real = []\n",
    "for company in df_ebitda[\"Company name\"]:\n",
    "    for year in list(df_ebitda.columns)[1:]:\n",
    "        value = df_ebitda.loc[df_ebitda[\"Company name\"] == company, year].values[0]\n",
    "        df_ebitda_real.append([company, year, value])\n",
    "\n",
    "df_ebitda_real = pd.DataFrame(df_ebitda_real, columns=[\"Company\", \"Year\", \"Ebitda\"])"
   ]
  },
  {
   "cell_type": "code",
   "execution_count": 30,
   "id": "6c2e4a12",
   "metadata": {},
   "outputs": [],
   "source": [
    "# Substitute missing values in the initial EBITDA dataframe with OLS predictions\n",
    "for i in range(len(df_ebitda_real[\"Ebitda\"])):\n",
    "    if df_ebitda_real[\"Ebitda\"][i] == \"-\":\n",
    "        df_ebitda_real[\"Ebitda\"][i] = df_ebitda_complete.loc[i, \"Ebitda\"]"
   ]
  },
  {
   "cell_type": "code",
   "execution_count": 31,
   "id": "f1ba181b",
   "metadata": {},
   "outputs": [],
   "source": [
    "# Export the final EBITDA data to a CSV file\n",
    "df_ebitda_real.to_csv('../clean_data/ebitda_complete.csv', index=False)"
   ]
  },
  {
   "cell_type": "markdown",
   "id": "bab575b6",
   "metadata": {},
   "source": [
    "## COGS - use OLS to predict values for 2023-2027"
   ]
  },
  {
   "cell_type": "code",
   "execution_count": 32,
   "id": "5c2e89d8",
   "metadata": {},
   "outputs": [],
   "source": [
    "# Define new column names for the COGS dataframe, indicating the years of available data\n",
    "new_column_names = ['Company name', '2016', '2017', '2018', '2019', '2020', '2021', '2022']\n",
    "\n",
    "# Assign the new column names to the COGS dataframe\n",
    "df_cogs.columns = new_column_names"
   ]
  },
  {
   "cell_type": "code",
   "execution_count": 33,
   "id": "e4d2297a",
   "metadata": {},
   "outputs": [],
   "source": [
    "# Initialize an empty list to hold the reshaped COGS data\n",
    "new_df_cogs = []\n",
    "\n",
    "# Loop through each company in the COGS dataframe\n",
    "for company in df_cogs[\"Company name\"]:\n",
    "    # Loop through each year column for the company\n",
    "    for year in list(df_cogs.columns)[1:]:\n",
    "        # Extract the value for that year and company\n",
    "        # Since we're only interested in the value, we should not use [0][1], but just [0]\n",
    "        value = df_cogs.loc[df_cogs[\"Company name\"] == company, year].values[0]\n",
    "        # Append the company, year, and value to the new COGS data list\n",
    "        new_df_cogs.append([company, year, value])"
   ]
  },
  {
   "cell_type": "code",
   "execution_count": 34,
   "id": "5bce40f7",
   "metadata": {},
   "outputs": [],
   "source": [
    "# Convert the list to a DataFrame with appropriate column names\n",
    "new_df_cogs = pd.DataFrame(new_df_cogs, columns=[\"Company\", \"Year\", \"Value\"])\n",
    "\n",
    "# Convert 'Year' to integers for regression analysis\n",
    "new_df_cogs['Year'] = new_df_cogs['Year'].astype(int)\n",
    "\n",
    "# Convert 'Value' to numeric and handle non-numeric values as NaN\n",
    "new_df_cogs['Value'] = pd.to_numeric(new_df_cogs['Value'], errors='coerce')\n",
    "\n",
    "# Group the data by 'Company' for individual regression models\n",
    "grouped = new_df_cogs.groupby('Company')"
   ]
  },
  {
   "cell_type": "code",
   "execution_count": 35,
   "id": "e752ed99",
   "metadata": {},
   "outputs": [],
   "source": [
    "# Initialize a dictionary to store OLS models for each company\n",
    "ols_models = {}\n",
    "\n",
    "# Fit an OLS model for each company\n",
    "for name, group in grouped:\n",
    "    # Add a constant term to the independent variable for the intercept\n",
    "    X = sm.add_constant(group['Year'])\n",
    "    # Set the dependent variable as the 'Value'\n",
    "    y = group['Value']\n",
    "    # Fit the OLS model and store it in the dictionary using the company name as the key\n",
    "    model = sm.OLS(y, X).fit()\n",
    "    ols_models[name] = model"
   ]
  },
  {
   "cell_type": "code",
   "execution_count": 36,
   "id": "da8c85c5",
   "metadata": {},
   "outputs": [],
   "source": [
    "# Get a list of unique company names\n",
    "companies = df_cogs[\"Company name\"].tolist()\n",
    "\n",
    "# Initialize a list to store the predicted COGS for each company\n",
    "new_cogs = []\n",
    "\n",
    "# Predict the COGS for the years 2023 to 2027 using the OLS models\n",
    "for company in companies:\n",
    "    model = ols_models.get(company)\n",
    "    year_prediction = []\n",
    "    for year in [2023, 2024, 2025, 2026, 2027]:\n",
    "        # Predict the value for each year and append it to the list\n",
    "        prediction = model.predict([1, year])\n",
    "        year_prediction.append(prediction[0])  # Extract the value from the prediction\n",
    "    new_cogs.append(year_prediction)"
   ]
  },
  {
   "cell_type": "code",
   "execution_count": 37,
   "id": "184128cd",
   "metadata": {},
   "outputs": [],
   "source": [
    "# Convert the predictions list to a DataFrame\n",
    "new_cogs = pd.DataFrame(new_cogs, columns=[\"2023\", \"2024\", \"2025\", \"2026\", \"2027\"])\n",
    "\n",
    "# Insert the 'Company name' column to the predictions DataFrame\n",
    "new_cogs.insert(0, \"Company name\", companies)\n",
    "\n",
    "# Merge the original COGS data with the new predictions\n",
    "merged_cogs = pd.merge(df_cogs, new_cogs, on='Company name', how='inner')"
   ]
  },
  {
   "cell_type": "code",
   "execution_count": 38,
   "id": "6780fb21",
   "metadata": {},
   "outputs": [],
   "source": [
    "# Initialize a list to hold the final structured COGS data\n",
    "cogs_final = []\n",
    "\n",
    "# Loop through the merged data to structure it in the final format\n",
    "for company in merged_cogs[\"Company name\"]:\n",
    "    for year in list(merged_cogs.columns)[1:]:\n",
    "        # Extract the value for the company and year\n",
    "        # Corrected to access just the first element, which is the value\n",
    "        value = merged_cogs.loc[merged_cogs[\"Company name\"] == company, year].values[0]\n",
    "        # Append the company, year, and value to the final COGS data list\n",
    "        cogs_final.append([company, year, value])\n",
    "\n",
    "# Convert the final COGS data list to a DataFrame\n",
    "cogs_final = pd.DataFrame(cogs_final, columns=[\"Company\", \"Year\", \"Value\"])"
   ]
  },
  {
   "cell_type": "code",
   "execution_count": 39,
   "id": "02dd6581",
   "metadata": {},
   "outputs": [],
   "source": [
    "# Export the final structured COGS data to a CSV file\n",
    "cogs_final.to_csv('../clean_data/cogs_complete_test.csv', index=False)"
   ]
  },
  {
   "cell_type": "code",
   "execution_count": 41,
   "id": "7516d7e8",
   "metadata": {},
   "outputs": [],
   "source": [
    "# Create a list of unique companies from the final COGS dataframe\n",
    "unique_companies_new = cogs_final['Company'].unique()\n",
    "\n",
    "# Create a dataframe of unique companies and export it to a CSV file\n",
    "df_unique_companies = pd.DataFrame(unique_companies_new, columns=['Company'])\n",
    "df_unique_companies.to_csv('../clean_data/unique_companies.csv', index=False)"
   ]
  }
 ],
 "metadata": {
  "kernelspec": {
   "display_name": "Python 3 (ipykernel)",
   "language": "python",
   "name": "python3"
  },
  "language_info": {
   "codemirror_mode": {
    "name": "ipython",
    "version": 3
   },
   "file_extension": ".py",
   "mimetype": "text/x-python",
   "name": "python",
   "nbconvert_exporter": "python",
   "pygments_lexer": "ipython3",
   "version": "3.11.6"
  }
 },
 "nbformat": 4,
 "nbformat_minor": 5
}
