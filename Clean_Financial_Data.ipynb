{
 "cells": [
  {
   "cell_type": "markdown",
   "id": "745e4b03",
   "metadata": {},
   "source": [
    "# Cleaning Financial Data"
   ]
  },
  {
   "cell_type": "code",
   "execution_count": 1,
   "id": "b00de8ca",
   "metadata": {},
   "outputs": [],
   "source": [
    "import numpy as np\n",
    "import matplotlib.pyplot as plt\n",
    "import pandas as pd"
   ]
  },
  {
   "cell_type": "code",
   "execution_count": 34,
   "id": "387717cc",
   "metadata": {},
   "outputs": [],
   "source": [
    "df_revenue = pd.read_excel('data/total_revenue.xlsx')\n",
    "df_ebitda = pd.read_excel('data/ebitda.xlsx')\n",
    "df_cogs = pd.read_excel('data/cogs.xlsx')\n",
    "df_rd = pd.read_excel('data/rd.xlsx')"
   ]
  },
  {
   "cell_type": "code",
   "execution_count": 45,
   "id": "c532a03b",
   "metadata": {},
   "outputs": [
    {
     "data": {
      "text/plain": [
       "94"
      ]
     },
     "execution_count": 45,
     "metadata": {},
     "output_type": "execute_result"
    }
   ],
   "source": [
    "na_revenue = (df_revenue == \"-\").any(axis=1).sum()\n",
    "na_ebitda = (df_ebitda == \"-\").any(axis=1).sum()\n",
    "na_cogs = (df_cogs == \"-\").any(axis=1).sum()\n",
    "na_rd = (df_rd == \"-\").any(axis=1).sum()\n",
    "\n",
    "na_cogs"
   ]
  },
  {
   "cell_type": "code",
   "execution_count": 44,
   "id": "2447c9d5",
   "metadata": {
    "scrolled": true
   },
   "outputs": [
    {
     "data": {
      "text/plain": [
       "236"
      ]
     },
     "execution_count": 44,
     "metadata": {},
     "output_type": "execute_result"
    }
   ],
   "source": [
    " # Create a Boolean mask for rows with \"-\" values\n",
    "mask_revenue = (df_revenue == \"-\").any(axis=1)\n",
    "mask_ebitda = (df_ebitda == \"-\").any(axis=1)\n",
    "mask_cogs = (df_cogs == \"-\").any(axis=1)\n",
    "mask_rd = (df_rd == \"-\").any(axis=1)\n",
    "\n",
    "sum(mask_revenue==mask_cogs)"
   ]
  },
  {
   "cell_type": "code",
   "execution_count": null,
   "id": "89e76afc",
   "metadata": {},
   "outputs": [],
   "source": [
    "# Drop the rows with \"-\" values from the original DataFrame\n",
    "df = df[~mask]"
   ]
  },
  {
   "cell_type": "code",
   "execution_count": 15,
   "id": "ec5df9e3",
   "metadata": {},
   "outputs": [
    {
     "data": {
      "text/html": [
       "<div>\n",
       "<style scoped>\n",
       "    .dataframe tbody tr th:only-of-type {\n",
       "        vertical-align: middle;\n",
       "    }\n",
       "\n",
       "    .dataframe tbody tr th {\n",
       "        vertical-align: top;\n",
       "    }\n",
       "\n",
       "    .dataframe thead th {\n",
       "        text-align: right;\n",
       "    }\n",
       "</style>\n",
       "<table border=\"1\" class=\"dataframe\">\n",
       "  <thead>\n",
       "    <tr style=\"text-align: right;\">\n",
       "      <th></th>\n",
       "      <th>Company name</th>\n",
       "      <th>2016</th>\n",
       "      <th>2017</th>\n",
       "      <th>2018</th>\n",
       "      <th>2019</th>\n",
       "      <th>2020</th>\n",
       "      <th>2021</th>\n",
       "      <th>2022</th>\n",
       "    </tr>\n",
       "  </thead>\n",
       "  <tbody>\n",
       "    <tr>\n",
       "      <th>0</th>\n",
       "      <td>ABB Ltd (SWX:ABBN)</td>\n",
       "      <td>24929</td>\n",
       "      <td>25196</td>\n",
       "      <td>27662</td>\n",
       "      <td>27978</td>\n",
       "      <td>26134</td>\n",
       "      <td>28945</td>\n",
       "      <td>29446</td>\n",
       "    </tr>\n",
       "    <tr>\n",
       "      <th>1</th>\n",
       "      <td>Amazon.com, Inc. (NasdaqGS:AMZN)</td>\n",
       "      <td>135987</td>\n",
       "      <td>177866</td>\n",
       "      <td>232887</td>\n",
       "      <td>280522</td>\n",
       "      <td>386064</td>\n",
       "      <td>469822</td>\n",
       "      <td>513983</td>\n",
       "    </tr>\n",
       "    <tr>\n",
       "      <th>2</th>\n",
       "      <td>Cisco Systems, Inc. (NasdaqGS:CSCO)</td>\n",
       "      <td>48570</td>\n",
       "      <td>48096</td>\n",
       "      <td>50825</td>\n",
       "      <td>51550</td>\n",
       "      <td>48026</td>\n",
       "      <td>51549</td>\n",
       "      <td>53161</td>\n",
       "    </tr>\n",
       "    <tr>\n",
       "      <th>3</th>\n",
       "      <td>Intel Corporation (NasdaqGS:INTC)</td>\n",
       "      <td>59387</td>\n",
       "      <td>62761</td>\n",
       "      <td>70848</td>\n",
       "      <td>71965</td>\n",
       "      <td>77867</td>\n",
       "      <td>79024</td>\n",
       "      <td>63054</td>\n",
       "    </tr>\n",
       "    <tr>\n",
       "      <th>4</th>\n",
       "      <td>Kyocera Corporation (TSE:6971)</td>\n",
       "      <td>9347.7</td>\n",
       "      <td>10361.2</td>\n",
       "      <td>10983.6</td>\n",
       "      <td>10715</td>\n",
       "      <td>10024.7</td>\n",
       "      <td>11888.1</td>\n",
       "      <td>13407.4</td>\n",
       "    </tr>\n",
       "  </tbody>\n",
       "</table>\n",
       "</div>"
      ],
      "text/plain": [
       "                          Company name    2016     2017     2018    2019  \\\n",
       "0                   ABB Ltd (SWX:ABBN)   24929    25196    27662   27978   \n",
       "1     Amazon.com, Inc. (NasdaqGS:AMZN)  135987   177866   232887  280522   \n",
       "2  Cisco Systems, Inc. (NasdaqGS:CSCO)   48570    48096    50825   51550   \n",
       "3    Intel Corporation (NasdaqGS:INTC)   59387    62761    70848   71965   \n",
       "4       Kyocera Corporation (TSE:6971)  9347.7  10361.2  10983.6   10715   \n",
       "\n",
       "      2020     2021     2022  \n",
       "0    26134    28945    29446  \n",
       "1   386064   469822   513983  \n",
       "2    48026    51549    53161  \n",
       "3    77867    79024    63054  \n",
       "4  10024.7  11888.1  13407.4  "
      ]
     },
     "execution_count": 15,
     "metadata": {},
     "output_type": "execute_result"
    }
   ],
   "source": [
    "new_column_names = ['Company name', '2016', '2017', '2018', '2019', '2020', '2021', '2022']\n",
    "\n",
    "# Assign new column names to the DataFrame\n",
    "df.columns = new_column_names\n",
    "df.head()"
   ]
  },
  {
   "cell_type": "code",
   "execution_count": 17,
   "id": "147c7591",
   "metadata": {},
   "outputs": [
    {
     "data": {
      "text/plain": [
       "array([[2016],\n",
       "       [2017],\n",
       "       [2018],\n",
       "       [2019],\n",
       "       [2020],\n",
       "       [2021]])"
      ]
     },
     "execution_count": 17,
     "metadata": {},
     "output_type": "execute_result"
    }
   ],
   "source": [
    "X_train = np.array([i for i in range(2016, 2022)]).reshape(-1, 1)\n",
    "X_train"
   ]
  },
  {
   "cell_type": "code",
   "execution_count": null,
   "id": "690f8293",
   "metadata": {},
   "outputs": [],
   "source": []
  },
  {
   "cell_type": "code",
   "execution_count": null,
   "id": "9c3c83be",
   "metadata": {},
   "outputs": [],
   "source": []
  }
 ],
 "metadata": {
  "kernelspec": {
   "display_name": "Python 3 (ipykernel)",
   "language": "python",
   "name": "python3"
  },
  "language_info": {
   "codemirror_mode": {
    "name": "ipython",
    "version": 3
   },
   "file_extension": ".py",
   "mimetype": "text/x-python",
   "name": "python",
   "nbconvert_exporter": "python",
   "pygments_lexer": "ipython3",
   "version": "3.9.13"
  }
 },
 "nbformat": 4,
 "nbformat_minor": 5
}
